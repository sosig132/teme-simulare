{
 "cells": [
  {
   "cell_type": "code",
   "execution_count": 2,
   "metadata": {},
   "outputs": [
    {
     "data": {
      "text/plain": [
       "'\\n    Created on 10/26/2023\\n\\n    Problema celor 100 de prizonieri\\n'"
      ]
     },
     "execution_count": 2,
     "metadata": {},
     "output_type": "execute_result"
    }
   ],
   "source": [
    "\"\"\"\n",
    "    Created on 10/26/2023\n",
    "\n",
    "    Problema celor 100 de prizonieri\n",
    "\"\"\""
   ]
  },
  {
   "cell_type": "code",
   "execution_count": 1,
   "metadata": {},
   "outputs": [],
   "source": [
    "# Necessary libraries\n",
    "\n",
    "from random import randint, sample\n",
    "import matplotlib.pyplot as plt\n",
    "import pandas as pd\n",
    "import numpy as np"
   ]
  },
  {
   "cell_type": "code",
   "execution_count": null,
   "metadata": {},
   "outputs": [],
   "source": [
    "\"\"\"\n",
    "    ENUNTUL PROBLEMEI:\n",
    "\n",
    "    100 de prizonieri sunt condamnati la moarte. Gardianul inchisorii le propune un joc:\n",
    "    O camera contine o noptiera cu 100 de sertare numerotate de la 1 la 100. Gardianul pune \n",
    "    in fiecare sertar, la intamplare, un biletel cu numarul unui prizonier. Prizonierii intra\n",
    "    in camera, unul cate unul, pe rand. Fiecare prizonier poate deschide 50 de sertare. Sertarele\n",
    "    sunt apoi inchise. Daca toti prizonierii isi gasesc numarul, sunt eliberati, altfel sunt executati,\n",
    "    chiar daca unul singur nu si-l gaseste. Inainte sa intre primul, prizonierii se pot consulta, dar\n",
    "    nu pot comunica dupa ce primul prizonier intra. Care este cea mai buna strategie a prizonierilor?\n",
    "\"\"\""
   ]
  },
  {
   "cell_type": "code",
   "execution_count": null,
   "metadata": {},
   "outputs": [],
   "source": [
    "\"\"\"\n",
    "    STRATEGIA 1:\n",
    "    Fiecare prizonier deschide 50 de sertare la intamplare. Probabilitatea ca un singur prizonier sa\n",
    "    isi gaseasca numarul este de 50%. Deci, probabilitatea ca toti prizonierii sa isi gasesasca numarul\n",
    "    este de 0.5^100 = 0.000_000_000_000_000_000_000_000_000_000_8% = (8e-31)%, care este un numar mult\n",
    "    prea mic ca sa fie considerat o strategie viabila.\n",
    "\"\"\""
   ]
  },
  {
   "cell_type": "code",
   "execution_count": 7,
   "metadata": {},
   "outputs": [],
   "source": [
    "# Cei 100 de prizonieri\n",
    "prisoners = list(range(1, 101))"
   ]
  },
  {
   "cell_type": "code",
   "execution_count": 6,
   "metadata": {},
   "outputs": [],
   "source": [
    "# Sertarele ([0] pentru a avea sertarul 1 pe pozitia 1)\n",
    "\n",
    "def generate_drawers():\n",
    "    return [0]+sample(range(1, 101), 100)"
   ]
  },
  {
   "cell_type": "code",
   "execution_count": 10,
   "metadata": {},
   "outputs": [],
   "source": [
    "\n",
    "#Strategia 1 implementare\n",
    "def first_method():\n",
    "\n",
    "    #fiecare prizonier intra in camera\n",
    "    for prisoner in prisoners:\n",
    "        #lista de sertare deschise\n",
    "        set_of_chosen_drawers = set()\n",
    "\n",
    "        #si deschide 50 de sertare\n",
    "        for _ in range(50):\n",
    "            \n",
    "            #alegem un sertar la intamplare, si ne asiguram ca nu a mai fost deschis\n",
    "            x = randint(1,100)\n",
    "\n",
    "            while x in set_of_chosen_drawers:\n",
    "                \n",
    "                x = randint(1,100)\n",
    "            #daca prizonierul isi gaseste numarul, super, iese din camera victorios\n",
    "            if x == prisoner:\n",
    "                break\n",
    "                \n",
    "            else:\n",
    "                #adaugam sertarul la cele deschise\n",
    "                set_of_chosen_drawers.add(x)\n",
    "        #daca prizonierul nu si-a gasit numarul in 50 de incercari, prizonierii sunt executati\n",
    "        else:\n",
    "            return False\n",
    "    #daca toti prizonierii si-au gasit numarul, sunt eliberati\n",
    "    return True\n"
   ]
  },
  {
   "cell_type": "code",
   "execution_count": null,
   "metadata": {},
   "outputs": [],
   "source": [
    "\"\"\"\n",
    "    STRATEGIA 2:\n",
    "    Pentru a descrie strategia, nu numai prizonierii, ci si sertarele vor fi notate de la 1 la 100.\n",
    "        1. Fiecare prizonier deschide sertarul cu numarul sau.\n",
    "        2. Daca prizonierul gaseste biletelul cu numarul sau, atunci acesta a terminat.\n",
    "        3. Altfel, sertarul contine numarul altui prizonier, si apoi deschid sertarul notat cu acest numar. De ex,\n",
    "            daca in sertar este numarul 31, prizonierul deschide sertarul 31.\n",
    "        4. Prizonierul repeta pasii 2 si 3 pana isi gasesc numarul, ori pana deschide 50 de sertare, caz in care pierde\n",
    "            jocul si sunt toti executati.\n",
    "\"\"\""
   ]
  },
  {
   "cell_type": "code",
   "execution_count": 11,
   "metadata": {},
   "outputs": [],
   "source": [
    "def second_method():    \n",
    "    #generam sertarele\n",
    "    drawers = generate_drawers()\n",
    "\n",
    "    #fiecare prizonier intra in camera\n",
    "    for prisoner in prisoners:\n",
    "        #prizonierul incepe cu sertarul notat cu numarul sau\n",
    "        x=prisoner\n",
    "\n",
    "        for _ in range(50):\n",
    "            #daca prizonierul isi gaseste numarul, super, iese din camera victorios\n",
    "            if drawers[x]==prisoner:\n",
    "                break\n",
    "            #daca nu, deschide sertrarul notat cu numarul din sertarul curent\n",
    "            else:\n",
    "                x=drawers[x]\n",
    "        #daca prizonierul nu si-a gasit numarul in 50 de incercari, prizonierii sunt executati            \n",
    "        else:\n",
    "            return False\n",
    "    #daca toti prizonierii si-au gasit numarul, sunt eliberati\n",
    "    return True"
   ]
  },
  {
   "cell_type": "code",
   "execution_count": 16,
   "metadata": {},
   "outputs": [],
   "source": [
    "def Monte_Carlo(n):\n",
    "\n",
    "    #n = numarul de simulari\n",
    "\n",
    "    #numarul de victorii pentru fiecare strategie\n",
    "    first_method_wins = 0\n",
    "    second_method_wins = 0\n",
    "\n",
    "    #incepem simularile\n",
    "\n",
    "    for _ in range(n):\n",
    "\n",
    "        #daca prima strategie castiga, incrementam numarul de victorii\n",
    "        if first_method():\n",
    "            first_method_wins += 1\n",
    "\n",
    "        #daca a doua strategie castiga, incrementam numarul de victorii\n",
    "        if second_method():\n",
    "            second_method_wins += 1\n",
    "\n",
    "    #afisam rezultatele\n",
    "    print(\"Prima strategie a castigat de \", first_method_wins, \"ori in \", n, \" simulari, ceea ce inseamna un procentaj de \", first_method_wins/n*100, \"%\")\n",
    "    print(\"A doua strategie a castigat de \", second_method_wins, \"ori in \", n, \" simulari, ceea ce inseamna un procentaj de \", second_method_wins/n*100, \"%\")"
   ]
  },
  {
   "cell_type": "code",
   "execution_count": 17,
   "metadata": {},
   "outputs": [
    {
     "name": "stdout",
     "output_type": "stream",
     "text": [
      "Prima strategie a castigat de  0 ori in  1000000  simulari, ceea ce inseamna un procentaj de  0.0 %\n",
      "A doua strategie a castigat de  311436 ori in  1000000  simulari, ceea ce inseamna un procentaj de  31.1436 %\n"
     ]
    }
   ],
   "source": [
    "n = int(input(\"Introduceti numarul de simulari: \"))\n",
    "\n",
    "Monte_Carlo(n)"
   ]
  },
  {
   "cell_type": "code",
   "execution_count": null,
   "metadata": {},
   "outputs": [],
   "source": [
    "\"\"\"\n",
    "    CONCLUZII:\n",
    "    Dupa cum se poate observa, a doua strategie este mult mai eficienta decat prima, considerand procentajele obtinute,\n",
    "    31.1436% pentru a doua strategie si un impresionant 0% pentru prima. O scurta explicatie ar fi faptul ca in timp ce\n",
    "    prima strategie deschide sertare la intamplare, a doua strategie formeaza permutari ciclice. Astfel, alegand \n",
    "    prima data un sertar cu numarul prizonierului, este inevitabil ca sertarul sa fie in ciclul care sa ajunga la sertarul\n",
    "    cu numarul prizonierului, deoarece pentru a ajunge la primul sertar, trebuie sa gasim numarul prizonierului.\n",
    "    Sa spunem, de exemplu, ca suntem prizonierul 35 si selectam sertarul 35, care apartine 7-ciclului 35, 31, 67, 90, 62, 7, 13.\n",
    "    Sertarul cu numarul 13 va contine inevitabil numarul 35. Astfel, prizonierul 35 va gasi numarul sau in 7 incercari.\n",
    "    Modul in care prizonierii sunt executati este existenta unui ciclu de lungime 51, deoarece prizonierii nu vor putea ajunge\n",
    "    la numarul lor in 50 de incercari.\n",
    "\"\"\""
   ]
  }
 ],
 "metadata": {
  "kernelspec": {
   "display_name": "Python 3",
   "language": "python",
   "name": "python3"
  },
  "language_info": {
   "codemirror_mode": {
    "name": "ipython",
    "version": 3
   },
   "file_extension": ".py",
   "mimetype": "text/x-python",
   "name": "python",
   "nbconvert_exporter": "python",
   "pygments_lexer": "ipython3",
   "version": "3.10.3"
  }
 },
 "nbformat": 4,
 "nbformat_minor": 2
}
